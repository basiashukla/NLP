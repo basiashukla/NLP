{
  "nbformat": 4,
  "nbformat_minor": 0,
  "metadata": {
    "colab": {
      "provenance": []
    },
    "kernelspec": {
      "name": "python3",
      "display_name": "Python 3"
    },
    "language_info": {
      "name": "python"
    }
  },
  "cells": [
    {
      "cell_type": "markdown",
      "source": [
        "## Word Counts with Bag-of-Words (NLP Project)\n",
        "\n",
        "This project performs basic natural language processing using Python and NLTK.\n",
        "\n",
        "###  Steps:\n",
        "- Tokenize and lowercase text\n",
        "- Remove stopwords\n",
        "- Lemmatize words\n",
        "- Create a Bag-of-Words model\n",
        "- Visualize word frequencies with a simple plot"
      ],
      "metadata": {
        "id": "fudUxqDlAQH0"
      }
    },
    {
      "cell_type": "code",
      "execution_count": 68,
      "metadata": {
        "id": "Ey6o900YfV0d",
        "colab": {
          "base_uri": "https://localhost:8080/",
          "height": 0
        },
        "outputId": "f68af7e1-b80f-4620-a914-55db0f2e56fd"
      },
      "outputs": [
        {
          "output_type": "stream",
          "name": "stdout",
          "text": [
            "Requirement already satisfied: nltk in /usr/local/lib/python3.12/dist-packages (3.9.1)\n",
            "Requirement already satisfied: click in /usr/local/lib/python3.12/dist-packages (from nltk) (8.2.1)\n",
            "Requirement already satisfied: joblib in /usr/local/lib/python3.12/dist-packages (from nltk) (1.5.2)\n",
            "Requirement already satisfied: regex>=2021.8.3 in /usr/local/lib/python3.12/dist-packages (from nltk) (2024.11.6)\n",
            "Requirement already satisfied: tqdm in /usr/local/lib/python3.12/dist-packages (from nltk) (4.67.1)\n"
          ]
        }
      ],
      "source": [
        "# Install NLTK (if not already installed)\n",
        "!pip install nltk\n"
      ]
    },
    {
      "cell_type": "code",
      "source": [
        "# Import libraries\n",
        "\n",
        "import nltk\n",
        "import matplotlib.pyplot as plt\n",
        "from nltk.tokenize import word_tokenize\n",
        "from nltk.corpus import stopwords, wordnet\n",
        "from nltk.stem import WordNetLemmatizer # nltk.stem provides stemming and lemmatization tools for text preprocessing\n",
        "from nltk import FreqDist # frequency distribution\n",
        "from collections import Counter"
      ],
      "metadata": {
        "id": "4dm4wGKigL_W"
      },
      "execution_count": 85,
      "outputs": []
    },
    {
      "cell_type": "code",
      "source": [
        "# Download required resources (only run once)\n",
        "\n",
        "nltk.download('punkt') # for tokenization\n",
        "nltk.download('stopwords') # for stopwords\n",
        "nltk.download('wordnet')  # for lemmatization"
      ],
      "metadata": {
        "colab": {
          "base_uri": "https://localhost:8080/",
          "height": 0
        },
        "id": "vfdor-FxqPh0",
        "outputId": "4e617311-ba1b-49a1-cb0e-5fa2e065a032"
      },
      "execution_count": 49,
      "outputs": [
        {
          "output_type": "stream",
          "name": "stderr",
          "text": [
            "[nltk_data] Downloading package punkt to /root/nltk_data...\n",
            "[nltk_data]   Package punkt is already up-to-date!\n",
            "[nltk_data] Downloading package stopwords to /root/nltk_data...\n",
            "[nltk_data]   Package stopwords is already up-to-date!\n",
            "[nltk_data] Downloading package wordnet to /root/nltk_data...\n",
            "[nltk_data]   Package wordnet is already up-to-date!\n"
          ]
        },
        {
          "output_type": "execute_result",
          "data": {
            "text/plain": [
              "True"
            ]
          },
          "metadata": {},
          "execution_count": 49
        }
      ]
    },
    {
      "cell_type": "code",
      "source": [
        "# Input text\n",
        "\n",
        "text = \"In recent years, the number of people using public transport has increased significantly. Public transport provides an efficient and economical means of travel for many people. While some people continue to use private vehicles, others have begun to appreciate the convenience of trains and buses. Public authorities are investing more in public infrastructure to support the growing number of public transport users.\""
      ],
      "metadata": {
        "id": "bp9JcSBNqtqa"
      },
      "execution_count": 51,
      "outputs": []
    },
    {
      "cell_type": "code",
      "source": [
        "# Step 1: Tokenization + Lowercasing + Removing punctuation\n",
        "\n",
        "tokens_lower = [t.lower() for t in word_tokenize(text)] # Apply tokenization and lowercasing directly to the text\n",
        "tokens_lower = [t for t in tokens_lower if t.isalpha()] # Remove non-alphabetic tokens\n",
        "print(tokens_lower)"
      ],
      "metadata": {
        "colab": {
          "base_uri": "https://localhost:8080/",
          "height": 0
        },
        "id": "BVAFgklFrhKC",
        "outputId": "8f5171fb-d5af-4ea0-d8bd-dc1572d56f8d"
      },
      "execution_count": 59,
      "outputs": [
        {
          "output_type": "stream",
          "name": "stdout",
          "text": [
            "['in', 'recent', 'years', 'the', 'number', 'of', 'people', 'using', 'public', 'transport', 'has', 'increased', 'significantly', 'public', 'transport', 'provides', 'an', 'efficient', 'and', 'economical', 'means', 'of', 'travel', 'for', 'many', 'people', 'while', 'some', 'people', 'continue', 'to', 'use', 'private', 'vehicles', 'others', 'have', 'begun', 'to', 'appreciate', 'the', 'convenience', 'of', 'trains', 'and', 'buses', 'public', 'authorities', 'are', 'investing', 'more', 'in', 'public', 'infrastructure', 'to', 'support', 'the', 'growing', 'number', 'of', 'public', 'transport', 'users']\n"
          ]
        }
      ]
    },
    {
      "cell_type": "code",
      "source": [
        "# Step 2: Remove stopwords\n",
        "\n",
        "english_stops = set(stopwords.words('english')) # Get the set of English stopwords"
      ],
      "metadata": {
        "id": "twdRlRJauDJD"
      },
      "execution_count": 83,
      "outputs": []
    },
    {
      "cell_type": "code",
      "source": [
        "no_stops = [t for t in tokens_lower if t not in english_stops] # Apply stopword removal to tokens_lower\n",
        "print(no_stops)"
      ],
      "metadata": {
        "colab": {
          "base_uri": "https://localhost:8080/",
          "height": 0
        },
        "id": "gDdjuxbnuvxy",
        "outputId": "8ae158d4-f433-41de-f14f-72cb657e2220"
      },
      "execution_count": 84,
      "outputs": [
        {
          "output_type": "stream",
          "name": "stdout",
          "text": [
            "['recent', 'years', 'number', 'people', 'using', 'public', 'transport', 'increased', 'significantly', 'public', 'transport', 'provides', 'efficient', 'economical', 'means', 'travel', 'many', 'people', 'people', 'continue', 'use', 'private', 'vehicles', 'others', 'begun', 'appreciate', 'convenience', 'trains', 'buses', 'public', 'authorities', 'investing', 'public', 'infrastructure', 'support', 'growing', 'number', 'public', 'transport', 'users']\n"
          ]
        }
      ]
    },
    {
      "cell_type": "code",
      "source": [
        "# Step 3: Lemmatization\n",
        "\n",
        "lemmatizer = WordNetLemmatizer() # Instantiate lemmatizer using WordNet; maps words to their dictionary (lemma) form\n",
        "lemmatized_words = [lemmatizer.lemmatize(t) for t in no_stops]\n",
        "print(lemmatized_words)"
      ],
      "metadata": {
        "colab": {
          "base_uri": "https://localhost:8080/",
          "height": 0
        },
        "id": "7z8tQvXcu0DR",
        "outputId": "940a56b3-4546-4255-ff51-e1dbf591ec33"
      },
      "execution_count": 73,
      "outputs": [
        {
          "output_type": "stream",
          "name": "stdout",
          "text": [
            "['recent', 'year', 'number', 'people', 'using', 'public', 'transport', 'increased', 'significantly', 'public', 'transport', 'provides', 'efficient', 'economical', 'mean', 'travel', 'many', 'people', 'people', 'continue', 'use', 'private', 'vehicle', 'others', 'begun', 'appreciate', 'convenience', 'train', 'bus', 'public', 'authority', 'investing', 'public', 'infrastructure', 'support', 'growing', 'number', 'public', 'transport', 'user']\n"
          ]
        }
      ]
    },
    {
      "cell_type": "code",
      "source": [
        "# Step 4: Create Bag of Words\n",
        "\n",
        "bow = Counter(lemmatized_words)\n",
        "print(bow)"
      ],
      "metadata": {
        "colab": {
          "base_uri": "https://localhost:8080/",
          "height": 0
        },
        "id": "1qFzeG6qwAw9",
        "outputId": "6b7112e7-f867-46e8-8888-85d8333692f5"
      },
      "execution_count": 78,
      "outputs": [
        {
          "output_type": "stream",
          "name": "stdout",
          "text": [
            "Counter({'public': 5, 'people': 3, 'transport': 3, 'number': 2, 'recent': 1, 'year': 1, 'using': 1, 'increased': 1, 'significantly': 1, 'provides': 1, 'efficient': 1, 'economical': 1, 'mean': 1, 'travel': 1, 'many': 1, 'continue': 1, 'use': 1, 'private': 1, 'vehicle': 1, 'others': 1, 'begun': 1, 'appreciate': 1, 'convenience': 1, 'train': 1, 'bus': 1, 'authority': 1, 'investing': 1, 'infrastructure': 1, 'support': 1, 'growing': 1, 'user': 1})\n"
          ]
        }
      ]
    },
    {
      "cell_type": "code",
      "source": [
        "# Step 5: Show most common words\n",
        "\n",
        "print(bow.most_common(5))"
      ],
      "metadata": {
        "colab": {
          "base_uri": "https://localhost:8080/",
          "height": 0
        },
        "id": "Ydap2AmdxJAZ",
        "outputId": "c8a20256-747a-4e83-d7ce-a7dc4ebe0980"
      },
      "execution_count": 76,
      "outputs": [
        {
          "output_type": "stream",
          "name": "stdout",
          "text": [
            "[('public', 5), ('people', 3), ('transport', 3), ('number', 2), ('recent', 1)]\n"
          ]
        }
      ]
    },
    {
      "cell_type": "code",
      "source": [
        "# Step 6: Plot with matplotlib\n",
        "\n",
        "top_words = bow.most_common(5)\n",
        "words = [word for word, freq in top_words]\n",
        "frequencies = [freq for word, freq in top_words]"
      ],
      "metadata": {
        "id": "rF2Rz0c5WA4X"
      },
      "execution_count": 92,
      "outputs": []
    },
    {
      "cell_type": "code",
      "source": [
        "plt.bar(words, frequencies, color='pink')\n",
        "plt.title('Top 5 Most Frequent Words')\n",
        "plt.xlabel('Words')\n",
        "plt.ylabel('Frequency')\n",
        "\n",
        "# Save the plot before showing it\n",
        "\n",
        "plt.savefig('word_freq_plot.png', dpi=300, bbox_inches='tight')\n",
        "plt.show()"
      ],
      "metadata": {
        "colab": {
          "base_uri": "https://localhost:8080/",
          "height": 472
        },
        "id": "IeAkWOKlXEg3",
        "outputId": "08b18c01-9cb9-412e-e247-784491694343"
      },
      "execution_count": 114,
      "outputs": [
        {
          "output_type": "display_data",
          "data": {
            "text/plain": [
              "<Figure size 640x480 with 1 Axes>"
            ],
            "image/png": "[encoded data removed]"
          },
          "metadata": {}
        }
      ]
    },
    {
      "cell_type": "code",
      "source": [
        "from google.colab import files\n",
        "files.download('word_freq_plot.png')\n"
      ],
      "metadata": {
        "colab": {
          "base_uri": "https://localhost:8080/",
          "height": 17
        },
        "id": "kP36WFYMPDre",
        "outputId": "78b595a6-3640-4225-afc8-01f40ce259cf"
      },
      "execution_count": 115,
      "outputs": [
        {
          "output_type": "display_data",
          "data": {
            "text/plain": [
              "<IPython.core.display.Javascript object>"
            ],
            "application/javascript": [
              "\n",
              "    async function download(id, filename, size) {\n",
              "      if (!google.colab.kernel.accessAllowed) {\n",
              "        return;\n",
              "      }\n",
              "      const div = document.createElement('div');\n",
              "      const label = document.createElement('label');\n",
              "      label.textContent = `Downloading \"${filename}\": `;\n",
              "      div.appendChild(label);\n",
              "      const progress = document.createElement('progress');\n",
              "      progress.max = size;\n",
              "      div.appendChild(progress);\n",
              "      document.body.appendChild(div);\n",
              "\n",
              "      const buffers = [];\n",
              "      let downloaded = 0;\n",
              "\n",
              "      const channel = await google.colab.kernel.comms.open(id);\n",
              "      // Send a message to notify the kernel that we're ready.\n",
              "      channel.send({})\n",
              "\n",
              "      for await (const message of channel.messages) {\n",
              "        // Send a message to notify the kernel that we're ready.\n",
              "        channel.send({})\n",
              "        if (message.buffers) {\n",
              "          for (const buffer of message.buffers) {\n",
              "            buffers.push(buffer);\n",
              "            downloaded += buffer.byteLength;\n",
              "            progress.value = downloaded;\n",
              "          }\n",
              "        }\n",
              "      }\n",
              "      const blob = new Blob(buffers, {type: 'application/binary'});\n",
              "      const a = document.createElement('a');\n",
              "      a.href = window.URL.createObjectURL(blob);\n",
              "      a.download = filename;\n",
              "      div.appendChild(a);\n",
              "      a.click();\n",
              "      div.remove();\n",
              "    }\n",
              "  "
            ]
          },
          "metadata": {}
        },
        {
          "output_type": "display_data",
          "data": {
            "text/plain": [
              "<IPython.core.display.Javascript object>"
            ],
            "application/javascript": [
              "download(\"download_2aac668f-b33c-4bf4-b15b-0cc54b08633d\", \"word_freq_plot.png\", 54102)"
            ]
          },
          "metadata": {}
        }
      ]
    },
    {
      "cell_type": "markdown",
      "source": [
        "Final Notes:\n",
        "This project is a simple demonstration of natural language processing using Python and NLTK.\n",
        "It uses a bag-of-words model to identify and visualize the most frequent words in a short passage of text.\n",
        "Tools used: NLTK, matplotlib, Counter (collections)\n",
        "\n",
        "Created by: Barbara Shukla"
      ],
      "metadata": {
        "id": "tfsAyUXmHGLA"
      }
    }
  ]
}